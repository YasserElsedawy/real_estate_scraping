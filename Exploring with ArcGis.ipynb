{
 "cells": [
  {
   "cell_type": "code",
   "execution_count": 157,
   "metadata": {},
   "outputs": [
    {
     "data": {
      "text/html": [
       "        <script type=\"text/javascript\">\n",
       "        window.PlotlyConfig = {MathJaxConfig: 'local'};\n",
       "        if (window.MathJax) {MathJax.Hub.Config({SVG: {font: \"STIX-Web\"}});}\n",
       "        if (typeof require !== 'undefined') {\n",
       "        require.undef(\"plotly\");\n",
       "        requirejs.config({\n",
       "            paths: {\n",
       "                'plotly': ['https://cdn.plot.ly/plotly-latest.min']\n",
       "            }\n",
       "        });\n",
       "        require(['plotly'], function(Plotly) {\n",
       "            window._Plotly = Plotly;\n",
       "        });\n",
       "        }\n",
       "        </script>\n",
       "        "
      ]
     },
     "metadata": {},
     "output_type": "display_data"
    }
   ],
   "source": [
    "from arcgis.gis import GIS\n",
    "import pandas as pd\n",
    "import seaborn as sns\n",
    "import matplotlib.pyplot as plt\n",
    "from arcgis.features import GeoAccessor, GeoSeriesAccessor\n",
    "import cufflinks as cf\n",
    "cf.go_offline()\n",
    "%matplotlib inline"
   ]
  },
  {
   "cell_type": "code",
   "execution_count": 4,
   "metadata": {},
   "outputs": [
    {
     "data": {
      "application/vnd.jupyter.widget-view+json": {
       "model_id": "",
       "version_major": 2,
       "version_minor": 0
      },
      "text/plain": [
       "MapView(layout=Layout(height='400px', width='100%'))"
      ]
     },
     "metadata": {},
     "output_type": "display_data"
    },
    {
     "data": {
      "text/html": [
       "<div class=\"map-static-img-preview-6ba015b7-2883-42f3-b5bf-778b6a60e9fe\"><img src=\"\"></img></div>"
      ],
      "text/plain": [
       "<IPython.core.display.HTML object>"
      ]
     },
     "metadata": {},
     "output_type": "display_data"
    }
   ],
   "source": [
    "gis = GIS()"
   ]
  },
  {
   "cell_type": "code",
   "execution_count": null,
   "metadata": {},
   "outputs": [],
   "source": [
    "#for reference: https://github.com/Esri/arcgis-python-api"
   ]
  },
  {
   "cell_type": "code",
   "execution_count": 92,
   "metadata": {},
   "outputs": [],
   "source": [
    "df = pd.read_csv('arc.csv',index_col=0)"
   ]
  },
  {
   "cell_type": "code",
   "execution_count": 93,
   "metadata": {},
   "outputs": [
    {
     "data": {
      "text/plain": [
       "array(['Centro', 'Lodi / Ripamonti / Mecenate', 'Milano',\n",
       "       'Bicocca / Greco / Viale Monza', 'Sempione / Certosa',\n",
       "       'Porta Genova / Navigli / Corso Italia', 'Città Studi / Lambrate',\n",
       "       'Porta Romana / Monte Nero', '~Altre zone',\n",
       "       'Barona / Giambellino / Lorenteggio', 'Rogoredo / Chiesa Rossa',\n",
       "       'Loreto / Porta Venezia / Indipendenza',\n",
       "       'Garibaldi / Stazione Centrale / Isola',\n",
       "       'Baggio / Forze Armate / Quinto Romano',\n",
       "       'Maciachini / Zara / Niguarda', 'San Siro / Fiera',\n",
       "       'Affori / Bovisa', 'Bonola / Molino Dorino / Lampugnano'],\n",
       "      dtype=object)"
      ]
     },
     "execution_count": 93,
     "metadata": {},
     "output_type": "execute_result"
    }
   ],
   "source": [
    "df['location'].unique()"
   ]
  },
  {
   "cell_type": "code",
   "execution_count": 94,
   "metadata": {},
   "outputs": [],
   "source": [
    "#replacing places with cooardinates \n",
    "df = df.replace('Centro', \"45.464204, 9.174259\")\n",
    "df = df.replace('Milano', '45.464204, 9.174259')\n",
    "df = df.replace('Lodi / Ripamonti / Mecenate', '45.453840, 9.207265')\n",
    "df = df.replace('Bicocca / Greco / Viale Monza', '45.519709, 9.196380')\n",
    "df = df.replace('Sempione / Certosa', '45.472194, 9.161677')\n",
    "df = df.replace('Porta Genova / Navigli / Corso Italia', '45.456462, 9.159857')\n",
    "df = df.replace('Porta Romana / Monte Nero', '45.453449, 9.208381')\n",
    "df = df.replace('Barona / Giambellino / Lorenteggio', '45.458086, 9.146773')\n",
    "df = df.replace('Rogoredo / Chiesa Rossa', '45.431014, 9.231579')\n",
    "df = df.replace('Loreto / Porta Venezia / Indipendenza', '45.485280, 9.224120')\n",
    "df = df.replace('Garibaldi / Stazione Centrale / Isola', '45.484790, 9.198360')\n",
    "df = df.replace('Baggio / Forze Armate / Quinto Romano', '45.456096, 9.087164')\n",
    "df = df.replace('Maciachini / Zara / Niguarda', '45.496670, 9.185695')\n",
    "df = df.replace('San Siro / Fiera', '45.485561, 9.077715')\n",
    "df = df.replace('Affori / Bovisa', '45.516957, 9.120770')\n",
    "df = df.replace('Bonola / Molino Dorino / Lampugnano', '45.497337, 9.105851')\n",
    "df = df.replace('Città Studi / Lambrate', '45.477768, 9.221365')"
   ]
  },
  {
   "cell_type": "code",
   "execution_count": 95,
   "metadata": {},
   "outputs": [],
   "source": [
    "#deleting unidentified places\n",
    "df = df[df.location != '~Altre zone']"
   ]
  },
  {
   "cell_type": "code",
   "execution_count": 96,
   "metadata": {},
   "outputs": [
    {
     "data": {
      "text/html": [
       "<div>\n",
       "<style scoped>\n",
       "    .dataframe tbody tr th:only-of-type {\n",
       "        vertical-align: middle;\n",
       "    }\n",
       "\n",
       "    .dataframe tbody tr th {\n",
       "        vertical-align: top;\n",
       "    }\n",
       "\n",
       "    .dataframe thead th {\n",
       "        text-align: right;\n",
       "    }\n",
       "</style>\n",
       "<table border=\"1\" class=\"dataframe\">\n",
       "  <thead>\n",
       "    <tr style=\"text-align: right;\">\n",
       "      <th></th>\n",
       "      <th>0</th>\n",
       "      <th>1</th>\n",
       "    </tr>\n",
       "  </thead>\n",
       "  <tbody>\n",
       "    <tr>\n",
       "      <td>0</td>\n",
       "      <td>45.464204,</td>\n",
       "      <td>9.174259</td>\n",
       "    </tr>\n",
       "    <tr>\n",
       "      <td>1</td>\n",
       "      <td>45.453840,</td>\n",
       "      <td>9.207265</td>\n",
       "    </tr>\n",
       "    <tr>\n",
       "      <td>3</td>\n",
       "      <td>45.464204,</td>\n",
       "      <td>9.174259</td>\n",
       "    </tr>\n",
       "    <tr>\n",
       "      <td>4</td>\n",
       "      <td>45.464204,</td>\n",
       "      <td>9.174259</td>\n",
       "    </tr>\n",
       "    <tr>\n",
       "      <td>5</td>\n",
       "      <td>45.519709,</td>\n",
       "      <td>9.196380</td>\n",
       "    </tr>\n",
       "    <tr>\n",
       "      <td>...</td>\n",
       "      <td>...</td>\n",
       "      <td>...</td>\n",
       "    </tr>\n",
       "    <tr>\n",
       "      <td>446</td>\n",
       "      <td>45.458086,</td>\n",
       "      <td>9.146773</td>\n",
       "    </tr>\n",
       "    <tr>\n",
       "      <td>450</td>\n",
       "      <td>45.464204,</td>\n",
       "      <td>9.174259</td>\n",
       "    </tr>\n",
       "    <tr>\n",
       "      <td>453</td>\n",
       "      <td>45.456462,</td>\n",
       "      <td>9.159857</td>\n",
       "    </tr>\n",
       "    <tr>\n",
       "      <td>456</td>\n",
       "      <td>45.464204,</td>\n",
       "      <td>9.174259</td>\n",
       "    </tr>\n",
       "    <tr>\n",
       "      <td>457</td>\n",
       "      <td>45.456462,</td>\n",
       "      <td>9.159857</td>\n",
       "    </tr>\n",
       "  </tbody>\n",
       "</table>\n",
       "<p>350 rows × 2 columns</p>\n",
       "</div>"
      ],
      "text/plain": [
       "              0         1\n",
       "0    45.464204,  9.174259\n",
       "1    45.453840,  9.207265\n",
       "3    45.464204,  9.174259\n",
       "4    45.464204,  9.174259\n",
       "5    45.519709,  9.196380\n",
       "..          ...       ...\n",
       "446  45.458086,  9.146773\n",
       "450  45.464204,  9.174259\n",
       "453  45.456462,  9.159857\n",
       "456  45.464204,  9.174259\n",
       "457  45.456462,  9.159857\n",
       "\n",
       "[350 rows x 2 columns]"
      ]
     },
     "execution_count": 96,
     "metadata": {},
     "output_type": "execute_result"
    }
   ],
   "source": [
    "#splitting the cooardinates\n",
    "loc = df.location.str.split(expand=True)\n",
    "#rename the columns\n",
    "loc = loc.rename(columns={0: \"latitude\", 1: \"longitude\"})"
   ]
  },
  {
   "cell_type": "code",
   "execution_count": 98,
   "metadata": {},
   "outputs": [],
   "source": [
    "#adding them to the original dataframe\n",
    "df['latitude'] = loc['latitude']\n",
    "df['longitude'] = loc['longitude']"
   ]
  },
  {
   "cell_type": "code",
   "execution_count": 100,
   "metadata": {},
   "outputs": [
    {
     "data": {
      "text/html": [
       "<div>\n",
       "<style scoped>\n",
       "    .dataframe tbody tr th:only-of-type {\n",
       "        vertical-align: middle;\n",
       "    }\n",
       "\n",
       "    .dataframe tbody tr th {\n",
       "        vertical-align: top;\n",
       "    }\n",
       "\n",
       "    .dataframe thead th {\n",
       "        text-align: right;\n",
       "    }\n",
       "</style>\n",
       "<table border=\"1\" class=\"dataframe\">\n",
       "  <thead>\n",
       "    <tr style=\"text-align: right;\">\n",
       "      <th></th>\n",
       "      <th>price</th>\n",
       "      <th>area</th>\n",
       "      <th>date</th>\n",
       "      <th>latitude</th>\n",
       "      <th>longitude</th>\n",
       "    </tr>\n",
       "  </thead>\n",
       "  <tbody>\n",
       "    <tr>\n",
       "      <td>0</td>\n",
       "      <td>500.0</td>\n",
       "      <td>123.0</td>\n",
       "      <td>2020-03-28</td>\n",
       "      <td>45.464204,</td>\n",
       "      <td>9.174259</td>\n",
       "    </tr>\n",
       "    <tr>\n",
       "      <td>1</td>\n",
       "      <td>635.0</td>\n",
       "      <td>60.0</td>\n",
       "      <td>2020-04-15</td>\n",
       "      <td>45.453840,</td>\n",
       "      <td>9.207265</td>\n",
       "    </tr>\n",
       "    <tr>\n",
       "      <td>3</td>\n",
       "      <td>1300.0</td>\n",
       "      <td>45.0</td>\n",
       "      <td>2020-04-15</td>\n",
       "      <td>45.464204,</td>\n",
       "      <td>9.174259</td>\n",
       "    </tr>\n",
       "    <tr>\n",
       "      <td>4</td>\n",
       "      <td>520.0</td>\n",
       "      <td>35.0</td>\n",
       "      <td>2020-04-15</td>\n",
       "      <td>45.464204,</td>\n",
       "      <td>9.174259</td>\n",
       "    </tr>\n",
       "    <tr>\n",
       "      <td>5</td>\n",
       "      <td>500.0</td>\n",
       "      <td>80.0</td>\n",
       "      <td>2020-04-14</td>\n",
       "      <td>45.519709,</td>\n",
       "      <td>9.196380</td>\n",
       "    </tr>\n",
       "    <tr>\n",
       "      <td>...</td>\n",
       "      <td>...</td>\n",
       "      <td>...</td>\n",
       "      <td>...</td>\n",
       "      <td>...</td>\n",
       "      <td>...</td>\n",
       "    </tr>\n",
       "    <tr>\n",
       "      <td>446</td>\n",
       "      <td>760.0</td>\n",
       "      <td>70.0</td>\n",
       "      <td>2020-01-12</td>\n",
       "      <td>45.458086,</td>\n",
       "      <td>9.146773</td>\n",
       "    </tr>\n",
       "    <tr>\n",
       "      <td>450</td>\n",
       "      <td>750.0</td>\n",
       "      <td>44.0</td>\n",
       "      <td>2020-01-12</td>\n",
       "      <td>45.464204,</td>\n",
       "      <td>9.174259</td>\n",
       "    </tr>\n",
       "    <tr>\n",
       "      <td>453</td>\n",
       "      <td>350.0</td>\n",
       "      <td>40.0</td>\n",
       "      <td>2020-01-11</td>\n",
       "      <td>45.456462,</td>\n",
       "      <td>9.159857</td>\n",
       "    </tr>\n",
       "    <tr>\n",
       "      <td>456</td>\n",
       "      <td>1166.0</td>\n",
       "      <td>50.0</td>\n",
       "      <td>2020-01-07</td>\n",
       "      <td>45.464204,</td>\n",
       "      <td>9.174259</td>\n",
       "    </tr>\n",
       "    <tr>\n",
       "      <td>457</td>\n",
       "      <td>450.0</td>\n",
       "      <td>70.0</td>\n",
       "      <td>2020-01-07</td>\n",
       "      <td>45.456462,</td>\n",
       "      <td>9.159857</td>\n",
       "    </tr>\n",
       "  </tbody>\n",
       "</table>\n",
       "<p>350 rows × 5 columns</p>\n",
       "</div>"
      ],
      "text/plain": [
       "      price   area        date    latitude longitude\n",
       "0     500.0  123.0  2020-03-28  45.464204,  9.174259\n",
       "1     635.0   60.0  2020-04-15  45.453840,  9.207265\n",
       "3    1300.0   45.0  2020-04-15  45.464204,  9.174259\n",
       "4     520.0   35.0  2020-04-15  45.464204,  9.174259\n",
       "5     500.0   80.0  2020-04-14  45.519709,  9.196380\n",
       "..      ...    ...         ...         ...       ...\n",
       "446   760.0   70.0  2020-01-12  45.458086,  9.146773\n",
       "450   750.0   44.0  2020-01-12  45.464204,  9.174259\n",
       "453   350.0   40.0  2020-01-11  45.456462,  9.159857\n",
       "456  1166.0   50.0  2020-01-07  45.464204,  9.174259\n",
       "457   450.0   70.0  2020-01-07  45.456462,  9.159857\n",
       "\n",
       "[350 rows x 5 columns]"
      ]
     },
     "execution_count": 100,
     "metadata": {},
     "output_type": "execute_result"
    }
   ],
   "source": [
    "df"
   ]
  },
  {
   "cell_type": "code",
   "execution_count": 101,
   "metadata": {},
   "outputs": [],
   "source": [
    "#converting the cooardinates to floats\n",
    "df['latitude'] = df['latitude'].apply(lambda x: x.replace('', '').replace(',', '')\n",
    "                                if isinstance(x, str) else x).astype(float)"
   ]
  },
  {
   "cell_type": "code",
   "execution_count": 102,
   "metadata": {},
   "outputs": [],
   "source": [
    "df['longitude'] = df['longitude'].astype(float)"
   ]
  },
  {
   "cell_type": "code",
   "execution_count": 161,
   "metadata": {},
   "outputs": [],
   "source": [
    "#splitting the data againg\n",
    "dfb = df[(df['date'] < '2020-02-21')]\n",
    "dfa = df[(df['date'] >= '2020-02-21')]"
   ]
  },
  {
   "cell_type": "code",
   "execution_count": 163,
   "metadata": {},
   "outputs": [],
   "source": [
    "#Convert to Spatially Enabled DataFrame\n",
    "dfb = pd.DataFrame.spatial.from_xy(dfb, 'longitude','latitude')\n",
    "dfa = pd.DataFrame.spatial.from_xy(dfa, 'longitude','latitude')"
   ]
  },
  {
   "cell_type": "code",
   "execution_count": 207,
   "metadata": {
    "scrolled": false
   },
   "outputs": [
    {
     "data": {
      "application/vnd.jupyter.widget-view+json": {
       "model_id": "91d31d049af0405b828840bde5265e05",
       "version_major": 2,
       "version_minor": 0
      },
      "text/plain": [
       "MapView(layout=Layout(height='400px', width='100%'))"
      ]
     },
     "metadata": {},
     "output_type": "display_data"
    },
    {
     "data": {
      "text/html": [
       "<div class=\"map-static-img-preview-29bee4d2-4029-46ec-bdd3-985ccbeadd09\"><img src=\"\"></img></div>"
      ],
      "text/plain": [
       "<IPython.core.display.HTML object>"
      ]
     },
     "metadata": {},
     "output_type": "display_data"
    }
   ],
   "source": [
    "pdx_map = gis.map('Milan')\n",
    "pdx_map.basemap = 'streets'\n",
    "pdx_map"
   ]
  },
  {
   "cell_type": "code",
   "execution_count": 208,
   "metadata": {},
   "outputs": [
    {
     "data": {
      "text/plain": [
       "True"
      ]
     },
     "execution_count": 208,
     "metadata": {},
     "output_type": "execute_result"
    }
   ],
   "source": [
    "dfb.spatial.plot(map_widget=pdx_map)\n",
    "dfa.spatial.plot(map_widget=pdx_map)"
   ]
  },
  {
   "cell_type": "code",
   "execution_count": 209,
   "metadata": {},
   "outputs": [
    {
     "data": {
      "application/vnd.jupyter.widget-view+json": {
       "model_id": "85db316d68b242439963fad382e32f5b",
       "version_major": 2,
       "version_minor": 0
      },
      "text/plain": [
       "MapView(layout=Layout(height='400px', width='100%'))"
      ]
     },
     "metadata": {},
     "output_type": "display_data"
    },
    {
     "data": {
      "text/html": [
       "<div class=\"map-static-img-preview-a57ac9df-e9b1-47c2-816e-26f23e1541eb\"><img src=\"\"></img></div>"
      ],
      "text/plain": [
       "<IPython.core.display.HTML object>"
      ]
     },
     "metadata": {},
     "output_type": "display_data"
    }
   ],
   "source": [
    "#visualizes the spatial density of the properties (houses) using a heatmap\n",
    "pdx_density_map = gis.map('Milan')\n",
    "pdx_density_map.basemap='gray'\n",
    "pdx_density_map"
   ]
  },
  {
   "cell_type": "code",
   "execution_count": 210,
   "metadata": {},
   "outputs": [
    {
     "data": {
      "text/plain": [
       "True"
      ]
     },
     "execution_count": 210,
     "metadata": {},
     "output_type": "execute_result"
    }
   ],
   "source": [
    "dfb.spatial.plot(map_widget=pdx_density_map, renderer_type='h')"
   ]
  },
  {
   "cell_type": "code",
   "execution_count": 176,
   "metadata": {},
   "outputs": [
    {
     "data": {
      "application/vnd.jupyter.widget-view+json": {
       "model_id": "fcd282fac18c43d5b8ca52b425067951",
       "version_major": 2,
       "version_minor": 0
      },
      "text/plain": [
       "MapView(layout=Layout(height='400px', width='100%'))"
      ]
     },
     "metadata": {},
     "output_type": "display_data"
    },
    {
     "data": {
      "text/html": [
       "<div class=\"map-static-img-preview-48731c96-281a-4505-8b33-1447c99d119b\"><img src=\"\"></img></div>"
      ],
      "text/plain": [
       "<IPython.core.display.HTML object>"
      ]
     },
     "metadata": {},
     "output_type": "display_data"
    }
   ],
   "source": [
    "pdx_density_map1 = gis.map('Milan')\n",
    "pdx_density_map1.basemap='gray'\n",
    "pdx_density_map1"
   ]
  },
  {
   "cell_type": "code",
   "execution_count": 177,
   "metadata": {},
   "outputs": [
    {
     "data": {
      "text/plain": [
       "True"
      ]
     },
     "execution_count": 177,
     "metadata": {},
     "output_type": "execute_result"
    }
   ],
   "source": [
    "dfa.spatial.plot(map_widget=pdx_density_map1,renderer_type='h')"
   ]
  },
  {
   "cell_type": "code",
   "execution_count": 184,
   "metadata": {},
   "outputs": [
    {
     "data": {
      "application/vnd.jupyter.widget-view+json": {
       "model_id": "39d9789b77144910863bba98145b8ecf",
       "version_major": 2,
       "version_minor": 0
      },
      "text/plain": [
       "MapView(layout=Layout(height='400px', width='100%'))"
      ]
     },
     "metadata": {},
     "output_type": "display_data"
    },
    {
     "data": {
      "text/html": [
       "<div class=\"map-static-img-preview-8950683b-6213-4707-b05f-37c67386f8d5\"><img src=\"\"></img></div>"
      ],
      "text/plain": [
       "<IPython.core.display.HTML object>"
      ]
     },
     "metadata": {},
     "output_type": "display_data"
    }
   ],
   "source": [
    "#Visualize spatial distribution by price\n",
    "pdx_price_map = gis.map(\"Milan\")\n",
    "pdx_price_map.basemap = 'gray-vector'\n",
    "pdx_price_map"
   ]
  },
  {
   "cell_type": "code",
   "execution_count": 185,
   "metadata": {},
   "outputs": [
    {
     "data": {
      "text/plain": [
       "True"
      ]
     },
     "execution_count": 185,
     "metadata": {},
     "output_type": "execute_result"
    }
   ],
   "source": [
    "dfb.spatial.plot(map_widget = pdx_price_map, \n",
    "                      renderer_type='c', # for classs breaks renderer\n",
    "                     method='esriClassifyQuantile',  # classification scheme\n",
    "                     class_count=10,  # between 1900 - 2000, each decade in a class\n",
    "                     col='price',\n",
    "                     cmap='BuPu_r',  # matplotlib color map\n",
    "                     alpha=0.5,\n",
    "                     outline_color=[50,0,0,50], line_width=1)"
   ]
  },
  {
   "cell_type": "code",
   "execution_count": 182,
   "metadata": {},
   "outputs": [
    {
     "data": {
      "application/vnd.jupyter.widget-view+json": {
       "model_id": "119e5997e108412aae7047728d890b41",
       "version_major": 2,
       "version_minor": 0
      },
      "text/plain": [
       "MapView(layout=Layout(height='400px', width='100%'))"
      ]
     },
     "metadata": {},
     "output_type": "display_data"
    },
    {
     "data": {
      "text/html": [
       "<div class=\"map-static-img-preview-8d4c08db-d1c7-4903-bdaf-648e1cadb908\"><img src=\"\"></img></div>"
      ],
      "text/plain": [
       "<IPython.core.display.HTML object>"
      ]
     },
     "metadata": {},
     "output_type": "display_data"
    }
   ],
   "source": [
    "pdx_price_map1 = gis.map(\"Milan\")\n",
    "pdx_price_map1.basemap = 'gray-vector'\n",
    "pdx_price_map1"
   ]
  },
  {
   "cell_type": "code",
   "execution_count": 183,
   "metadata": {},
   "outputs": [
    {
     "data": {
      "text/plain": [
       "True"
      ]
     },
     "execution_count": 183,
     "metadata": {},
     "output_type": "execute_result"
    }
   ],
   "source": [
    "dfa.spatial.plot(map_widget = pdx_price_map1, \n",
    "                      renderer_type='c', # for classs breaks renderer\n",
    "                     method='esriClassifyQuantile',  # classification scheme\n",
    "                     class_count=10,  # between 1900 - 2000, each decade in a class\n",
    "                     col='price',\n",
    "                     cmap='BuPu_r',  # matplotlib color map\n",
    "                     alpha=0.5,\n",
    "                     outline_color=[50,0,0,50], line_width=1)"
   ]
  },
  {
   "cell_type": "code",
   "execution_count": 243,
   "metadata": {},
   "outputs": [
    {
     "data": {
      "text/plain": [
       "Text(0.5, 1.0, 'Histogram of PRICE column Before')"
      ]
     },
     "execution_count": 243,
     "metadata": {},
     "output_type": "execute_result"
    },
    {
     "data": {
      "image/png": "[encoded data removed]",
      "text/plain": [
       "<Figure size 700x500 with 1 Axes>"
      ]
     },
     "metadata": {
      "needs_background": "light"
     },
     "output_type": "display_data"
    }
   ],
   "source": [
    "#creating the legend\n",
    "price_class_breaks = pdx_price_map.layers[0].layer.layerDefinition.drawingInfo.renderer.classBreakInfos\n",
    "# print(len(age_class_breaks))\n",
    "cbs_list = []\n",
    "cmap_list = []\n",
    "for cb in price_class_breaks:\n",
    "#     print(cb.description)  # print the class break labels\n",
    "    cbs_list.append(cb.classMaxValue)\n",
    "    cmap_list.append([x/255.0 for x in cb.symbol.color])\n",
    "    \n",
    "# build a histogram for the same class breaks\n",
    "n, bins, patches = plt.hist(dfb['price'], bins=cbs_list)\n",
    "\n",
    "# apply the same color for each class to match the map\n",
    "idx = 0\n",
    "for c, p in zip(bins, patches):\n",
    "    plt.setp(p, 'facecolor', cmap_list[idx])\n",
    "    idx+=1\n",
    "\n",
    "plt.title('Histogram of PRICE column Before')"
   ]
  },
  {
   "cell_type": "code",
   "execution_count": 244,
   "metadata": {},
   "outputs": [
    {
     "data": {
      "text/plain": [
       "Text(0.5, 1.0, 'Histogram of PRICE column After')"
      ]
     },
     "execution_count": 244,
     "metadata": {},
     "output_type": "execute_result"
    },
    {
     "data": {
      "image/png": "[encoded data removed]",
      "text/plain": [
       "<Figure size 700x500 with 1 Axes>"
      ]
     },
     "metadata": {
      "needs_background": "light"
     },
     "output_type": "display_data"
    }
   ],
   "source": [
    "price_class_breaks = pdx_price_map.layers[0].layer.layerDefinition.drawingInfo.renderer.classBreakInfos\n",
    "# print(len(age_class_breaks))\n",
    "cbs_list = []\n",
    "cmap_list = []\n",
    "for cb in price_class_breaks:\n",
    "#     print(cb.description)  # print the class break labels\n",
    "    cbs_list.append(cb.classMaxValue)\n",
    "    cmap_list.append([x/255.0 for x in cb.symbol.color])\n",
    "    \n",
    "# build a histogram for the same class breaks\n",
    "n, bins, patches = plt.hist(dfa['price'], bins=cbs_list)\n",
    "\n",
    "# apply the same color for each class to match the map\n",
    "idx = 0\n",
    "for c, p in zip(bins, patches):\n",
    "    plt.setp(p, 'facecolor', cmap_list[idx])\n",
    "    idx+=1\n",
    "\n",
    "plt.title('Histogram of PRICE column After')"
   ]
  },
  {
   "cell_type": "code",
   "execution_count": 216,
   "metadata": {},
   "outputs": [
    {
     "data": {
      "application/vnd.jupyter.widget-view+json": {
       "model_id": "bdd894af60324a9d90c6a9458419cd84",
       "version_major": 2,
       "version_minor": 0
      },
      "text/plain": [
       "MapView(layout=Layout(height='400px', width='100%'))"
      ]
     },
     "metadata": {},
     "output_type": "display_data"
    },
    {
     "data": {
      "text/html": [
       "<div class=\"map-static-img-preview-706dc690-61de-4be7-ba2d-7c188c576c19\"><img src=\"\"></img></div>"
      ],
      "text/plain": [
       "<IPython.core.display.HTML object>"
      ]
     },
     "metadata": {},
     "output_type": "display_data"
    }
   ],
   "source": [
    "pdx_size_map = gis.map(\"Milan\")\n",
    "pdx_size_map.basemap = 'gray-vector'\n",
    "pdx_size_map"
   ]
  },
  {
   "cell_type": "code",
   "execution_count": 240,
   "metadata": {},
   "outputs": [
    {
     "data": {
      "text/plain": [
       "True"
      ]
     },
     "execution_count": 240,
     "metadata": {},
     "output_type": "execute_result"
    }
   ],
   "source": [
    "dfb.spatial.plot(map_widget = pdx_size_map, \n",
    "                      renderer_type='c', # for classs breaks renderer\n",
    "                     method='esriClassifyNaturalBreaks',  # classification scheme\n",
    "                     class_count=10,  # between 1900 - 2000, each decade in a class\n",
    "                     col='area',\n",
    "                     cmap='RdBu',  # matplotlib color map\n",
    "                     alpha=0.7,\n",
    "                     outline_color=[50,0,0,50], line_width=1)"
   ]
  },
  {
   "cell_type": "code",
   "execution_count": 237,
   "metadata": {},
   "outputs": [
    {
     "data": {
      "application/vnd.jupyter.widget-view+json": {
       "model_id": "1b13bbe38e7c48e0afa305d4d9f78235",
       "version_major": 2,
       "version_minor": 0
      },
      "text/plain": [
       "MapView(layout=Layout(height='400px', width='100%'))"
      ]
     },
     "metadata": {},
     "output_type": "display_data"
    },
    {
     "data": {
      "text/html": [
       "<div class=\"map-static-img-preview-bf689430-8849-47f6-a973-2710367238b7\"><img src=\"\"></img></div>"
      ],
      "text/plain": [
       "<IPython.core.display.HTML object>"
      ]
     },
     "metadata": {},
     "output_type": "display_data"
    }
   ],
   "source": [
    "pdx_size_map1 = gis.map(\"Milan\")\n",
    "pdx_size_map1.basemap = 'gray-vector'\n",
    "pdx_size_map1"
   ]
  },
  {
   "cell_type": "code",
   "execution_count": 239,
   "metadata": {},
   "outputs": [
    {
     "data": {
      "text/plain": [
       "True"
      ]
     },
     "execution_count": 239,
     "metadata": {},
     "output_type": "execute_result"
    }
   ],
   "source": [
    "dfa.spatial.plot(map_widget = pdx_size_map1, \n",
    "                      renderer_type='c', # for classs breaks renderer\n",
    "                     method='esriClassifyNaturalBreaks',  # classification scheme\n",
    "                     class_count=10,  # between 1900 - 2000, each decade in a class\n",
    "                     col='area',\n",
    "                     cmap='RdBu',  # matplotlib color map\n",
    "                     alpha=0.7,\n",
    "                     outline_color=[50,0,0,50], line_width=1)"
   ]
  },
  {
   "cell_type": "code",
   "execution_count": 245,
   "metadata": {},
   "outputs": [
    {
     "data": {
      "text/plain": [
       "Text(0.5, 1.0, 'Histogram of area column Before')"
      ]
     },
     "execution_count": 245,
     "metadata": {},
     "output_type": "execute_result"
    },
    {
     "data": {
      "image/png": "[encoded data removed]",
      "text/plain": [
       "<Figure size 700x500 with 1 Axes>"
      ]
     },
     "metadata": {
      "needs_background": "light"
     },
     "output_type": "display_data"
    }
   ],
   "source": [
    "size_class_breaks = pdx_size_map.layers[0].layer.layerDefinition.drawingInfo.renderer.classBreakInfos\n",
    "# print(len(age_class_breaks))\n",
    "cbs_list = []\n",
    "cmap_list = []\n",
    "for cb in size_class_breaks:\n",
    "#     print(cb.description)  # print the class break labels\n",
    "    cbs_list.append(cb.classMaxValue)\n",
    "    cmap_list.append([x/255.0 for x in cb.symbol.color])\n",
    "    \n",
    "# build a histogram for the same class breaks\n",
    "n, bins, patches = plt.hist(dfb['area'], bins=cbs_list)\n",
    "\n",
    "# apply the same color for each class to match the map\n",
    "idx = 0\n",
    "for c, p in zip(bins, patches):\n",
    "    plt.setp(p, 'facecolor', cmap_list[idx])\n",
    "    idx+=1\n",
    "\n",
    "plt.title('Histogram of area column Before')"
   ]
  },
  {
   "cell_type": "code",
   "execution_count": 246,
   "metadata": {},
   "outputs": [
    {
     "data": {
      "text/plain": [
       "Text(0.5, 1.0, 'Histogram of area column After')"
      ]
     },
     "execution_count": 246,
     "metadata": {},
     "output_type": "execute_result"
    },
    {
     "data": {
      "image/png": "[encoded data removed]",
      "text/plain": [
       "<Figure size 700x500 with 1 Axes>"
      ]
     },
     "metadata": {
      "needs_background": "light"
     },
     "output_type": "display_data"
    }
   ],
   "source": [
    "size_class_breaks = pdx_size_map.layers[0].layer.layerDefinition.drawingInfo.renderer.classBreakInfos\n",
    "# print(len(age_class_breaks))\n",
    "cbs_list = []\n",
    "cmap_list = []\n",
    "for cb in size_class_breaks:\n",
    "#     print(cb.description)  # print the class break labels\n",
    "    cbs_list.append(cb.classMaxValue)\n",
    "    cmap_list.append([x/255.0 for x in cb.symbol.color])\n",
    "    \n",
    "# build a histogram for the same class breaks\n",
    "n, bins, patches = plt.hist(dfa['area'], bins=cbs_list)\n",
    "\n",
    "# apply the same color for each class to match the map\n",
    "idx = 0\n",
    "for c, p in zip(bins, patches):\n",
    "    plt.setp(p, 'facecolor', cmap_list[idx])\n",
    "    idx+=1\n",
    "\n",
    "plt.title('Histogram of area column After')"
   ]
  }
 ],
 "metadata": {
  "kernelspec": {
   "display_name": "Python 3",
   "language": "python",
   "name": "python3"
  },
  "language_info": {
   "codemirror_mode": {
    "name": "ipython",
    "version": 3
   },
   "file_extension": ".py",
   "mimetype": "text/x-python",
   "name": "python",
   "nbconvert_exporter": "python",
   "pygments_lexer": "ipython3",
   "version": "3.7.4"
  }
 },
 "nbformat": 4,
 "nbformat_minor": 2
}
