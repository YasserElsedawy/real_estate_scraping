{
 "cells": [
  {
   "cell_type": "code",
   "execution_count": 1,
   "metadata": {},
   "outputs": [],
   "source": [
    "import requests\n",
    "from bs4 import BeautifulSoup\n",
    "import pandas as pd\n",
    "import numpy as np "
   ]
  },
  {
   "cell_type": "markdown",
   "metadata": {},
   "source": [
    "We will be exploring the data available from January untill the date of doing this project Apr 16th. And for that we will be scrapping only the first 22 pages of the website ordered by most recent."
   ]
  },
  {
   "cell_type": "code",
   "execution_count": 2,
   "metadata": {},
   "outputs": [],
   "source": [
    "df = pd.DataFrame({'price':[],'area':[],'location':[],'date':[]})\n",
    "for i in range(1,23):\n",
    "    url = (f\"https://www.kijiji.it/case/affitto/milano-annunci-milano/appartamento/metri-quadri20:1/metri-quadri21:9/?p={i}&entryPoint=sb\")\n",
    "    page = requests.get(url)\n",
    "    soup = BeautifulSoup(page.content, 'html.parser')\n",
    "    results = soup.find(id ='search-result')\n",
    "    elems = results.find_all(class_='item-content')\n",
    "    for elem in elems:\n",
    "        price_elem = elem.find('h4', class_='price')\n",
    "        space_elem = elem.find('p', class_='attribute attr_h_m2')\n",
    "        location_elem = elem.find('p', class_='locale')\n",
    "        date_elem = elem.find('p', class_='timestamp')\n",
    "        if None in (price_elem, space_elem,location_elem,date_elem):\n",
    "            continue\n",
    "        df = df.append({\n",
    "                   'price': price_elem.text,\n",
    "                   'area':space_elem.text,\n",
    "                   'location': location_elem.text,\n",
    "                   'date':date_elem.text\n",
    "                   }, ignore_index=True)"
   ]
  },
  {
   "cell_type": "code",
   "execution_count": 4,
   "metadata": {},
   "outputs": [
    {
     "data": {
      "text/html": [
       "<div>\n",
       "<style scoped>\n",
       "    .dataframe tbody tr th:only-of-type {\n",
       "        vertical-align: middle;\n",
       "    }\n",
       "\n",
       "    .dataframe tbody tr th {\n",
       "        vertical-align: top;\n",
       "    }\n",
       "\n",
       "    .dataframe thead th {\n",
       "        text-align: right;\n",
       "    }\n",
       "</style>\n",
       "<table border=\"1\" class=\"dataframe\">\n",
       "  <thead>\n",
       "    <tr style=\"text-align: right;\">\n",
       "      <th></th>\n",
       "      <th>price</th>\n",
       "      <th>area</th>\n",
       "      <th>location</th>\n",
       "      <th>date</th>\n",
       "    </tr>\n",
       "  </thead>\n",
       "  <tbody>\n",
       "    <tr>\n",
       "      <td>0</td>\n",
       "      <td>500 €</td>\n",
       "      <td>Superficie (mq): 123</td>\n",
       "      <td>Centro</td>\n",
       "      <td>28 marzo, 03:23</td>\n",
       "    </tr>\n",
       "    <tr>\n",
       "      <td>1</td>\n",
       "      <td>900 €</td>\n",
       "      <td>Superficie (mq): 50</td>\n",
       "      <td>Città Studi / Lambrate</td>\n",
       "      <td>Oggi, 11:18</td>\n",
       "    </tr>\n",
       "    <tr>\n",
       "      <td>2</td>\n",
       "      <td>635 €</td>\n",
       "      <td>Superficie (mq): 60</td>\n",
       "      <td>Lodi / Ripamonti / Mecenate</td>\n",
       "      <td>Oggi, 09:16</td>\n",
       "    </tr>\n",
       "    <tr>\n",
       "      <td>3</td>\n",
       "      <td>Contatta l'utente</td>\n",
       "      <td>Superficie (mq): 40</td>\n",
       "      <td>Bicocca / Greco / Viale Monza</td>\n",
       "      <td>Oggi, 08:06</td>\n",
       "    </tr>\n",
       "    <tr>\n",
       "      <td>4</td>\n",
       "      <td>1.150 €</td>\n",
       "      <td>Superficie (mq): 50</td>\n",
       "      <td>Porta Romana / Monte Nero</td>\n",
       "      <td>Oggi, 05:05</td>\n",
       "    </tr>\n",
       "  </tbody>\n",
       "</table>\n",
       "</div>"
      ],
      "text/plain": [
       "               price                  area                       location  \\\n",
       "0              500 €  Superficie (mq): 123                         Centro   \n",
       "1              900 €   Superficie (mq): 50         Città Studi / Lambrate   \n",
       "2              635 €   Superficie (mq): 60    Lodi / Ripamonti / Mecenate   \n",
       "3  Contatta l'utente   Superficie (mq): 40  Bicocca / Greco / Viale Monza   \n",
       "4            1.150 €   Superficie (mq): 50      Porta Romana / Monte Nero   \n",
       "\n",
       "              date  \n",
       "0  28 marzo, 03:23  \n",
       "1      Oggi, 11:18  \n",
       "2      Oggi, 09:16  \n",
       "3      Oggi, 08:06  \n",
       "4      Oggi, 05:05  "
      ]
     },
     "execution_count": 4,
     "metadata": {},
     "output_type": "execute_result"
    }
   ],
   "source": [
    "#check the results\n",
    "df.head()"
   ]
  },
  {
   "cell_type": "code",
   "execution_count": 5,
   "metadata": {},
   "outputs": [],
   "source": [
    "#export to csv\n",
    "df.to_csv('Kijiji.csv')"
   ]
  }
 ],
 "metadata": {
  "kernelspec": {
   "display_name": "Python 3",
   "language": "python",
   "name": "python3"
  },
  "language_info": {
   "codemirror_mode": {
    "name": "ipython",
    "version": 3
   },
   "file_extension": ".py",
   "mimetype": "text/x-python",
   "name": "python",
   "nbconvert_exporter": "python",
   "pygments_lexer": "ipython3",
   "version": "3.7.4"
  }
 },
 "nbformat": 4,
 "nbformat_minor": 2
}
